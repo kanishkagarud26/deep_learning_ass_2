{
  "nbformat": 4,
  "nbformat_minor": 0,
  "metadata": {
    "colab": {
      "provenance": []
    },
    "kernelspec": {
      "name": "python3",
      "display_name": "Python 3"
    },
    "language_info": {
      "name": "python"
    }
  },
  "cells": [
    {
      "cell_type": "markdown",
      "source": [
        "Course Name: Deep Learning\n",
        "\n",
        "Lab Title: NLP Techniques for Text Classification\n",
        "\n",
        "Student Name :\n",
        "Kanishka garud\n",
        "\n",
        "Student ID:202201070062\n",
        "\n",
        "Date of Submission: 1-4-25\n",
        "\n",
        "Group Members: Manvi Pawar,Kanishka Garud,Shravani Sakore\n",
        "\n",
        "Objective The objective of this assignment is to implement NLP preprocessing techniques and build a text classification model using machine learning techniques."
      ],
      "metadata": {
        "id": "SmTeF6Lp_-Bm"
      }
    },
    {
      "cell_type": "markdown",
      "source": [
        "Dataset : https://www.kaggle.com/datasets/saurabhshahane/ecommerce-text-classification"
      ],
      "metadata": {
        "id": "3AvotQ6IBYwt"
      }
    },
    {
      "cell_type": "markdown",
      "source": [
        "** Importing Necessary Libraries**"
      ],
      "metadata": {
        "id": "jNsmKfpp7t3v"
      }
    },
    {
      "cell_type": "code",
      "source": [
        "import pandas as pd\n",
        "import numpy as np\n",
        "import nltk\n",
        "import re\n",
        "import string\n",
        "from nltk.tokenize import word_tokenize\n",
        "from nltk.corpus import stopwords\n",
        "from nltk.stem import PorterStemmer, WordNetLemmatizer\n",
        "from sklearn.feature_extraction.text import CountVectorizer, TfidfVectorizer\n",
        "from sklearn.model_selection import train_test_split\n",
        "from sklearn.naive_bayes import MultinomialNB\n",
        "from sklearn.metrics import accuracy_score, confusion_matrix, classification_report\n"
      ],
      "metadata": {
        "id": "ZbVBD_oMz1rV"
      },
      "execution_count": null,
      "outputs": []
    },
    {
      "cell_type": "markdown",
      "source": [
        "** Downloading Required NLTK Data**"
      ],
      "metadata": {
        "id": "Y4EZ62Ci7xqF"
      }
    },
    {
      "cell_type": "code",
      "source": [
        "nltk.download('punkt')\n",
        "nltk.download('stopwords')\n",
        "nltk.download('wordnet')\n",
        "\n"
      ],
      "metadata": {
        "colab": {
          "base_uri": "https://localhost:8080/"
        },
        "id": "kkl_CAgLz3j-",
        "outputId": "5f231472-af2e-4288-e123-9a4540120c1d"
      },
      "execution_count": null,
      "outputs": [
        {
          "output_type": "stream",
          "name": "stderr",
          "text": [
            "[nltk_data] Downloading package punkt to /root/nltk_data...\n",
            "[nltk_data]   Package punkt is already up-to-date!\n",
            "[nltk_data] Downloading package stopwords to /root/nltk_data...\n",
            "[nltk_data]   Package stopwords is already up-to-date!\n",
            "[nltk_data] Downloading package wordnet to /root/nltk_data...\n",
            "[nltk_data]   Package wordnet is already up-to-date!\n"
          ]
        },
        {
          "output_type": "execute_result",
          "data": {
            "text/plain": [
              "True"
            ]
          },
          "metadata": {},
          "execution_count": 2
        }
      ]
    },
    {
      "cell_type": "markdown",
      "source": [
        "**Task 1. NLP Preprocessing**"
      ],
      "metadata": {
        "id": "K1luQJTJ-3Qp"
      }
    },
    {
      "cell_type": "markdown",
      "source": [
        "**Loading** the Dataset"
      ],
      "metadata": {
        "id": "WPBJWRxl71ZY"
      }
    },
    {
      "cell_type": "code",
      "source": [
        "dataset_path = \"/content/ecommerceDataset.csv\"  # Update this with the correct dataset path\n",
        "df = pd.read_csv(dataset_path, on_bad_lines='skip', quoting=3)\n",
        "\n",
        "# Display first few rows\n",
        "print(df.head())\n",
        "\n",
        "# Check dataset info\n",
        "print(df.info())\n",
        "\n",
        "# Check for missing values\n",
        "print(df.isnull().sum())\n"
      ],
      "metadata": {
        "colab": {
          "base_uri": "https://localhost:8080/"
        },
        "id": "vf9ugtL9z-UH",
        "outputId": "4cdd209c-a495-4fb5-893c-343d1af459e4"
      },
      "execution_count": null,
      "outputs": [
        {
          "output_type": "stream",
          "name": "stdout",
          "text": [
            "   Household  \\\n",
            "0  Household   \n",
            "1  Household   \n",
            "2  Household   \n",
            "3  Household   \n",
            "4  Household   \n",
            "\n",
            "  \"Paper Plane Design Framed Wall Hanging Motivational Office Decor Art Prints (8.7 X 8.7 inch) - Set of 4 Painting made up in synthetic frame with uv textured print which gives multi effects and attracts towards it. This is an special series of paintings which makes your wall very beautiful and gives a royal touch. This painting is ready to hang  \\\n",
            "0                \"SAF 'Floral' Framed Painting (Wood                                                                                                                                                                                                                                                                                                           \n",
            "1  \"SAF 'UV Textured Modern Art Print Framed' Pai...                                                                                                                                                                                                                                                                                                           \n",
            "2  \"Incredible Gifts India Wooden Happy Birthday ...                                                                                                                                                                                                                                                                                                           \n",
            "3  \"Paper Plane Design Starry Night Vangoh Wall A...                                                                                                                                                                                                                                                                                                           \n",
            "4  \"SAF 'Ganesh Modern Art Print' Painting (Synth...                                                                                                                                                                                                                                                                                                           \n",
            "\n",
            "   you would be proud to possess this unique painting that is a niche apart. We use only the most modern and efficient printing technology on our prints  \\\n",
            "0                                  30 inch x 10 inch                                                                                                       \n",
            "1                               35 cm x 50 cm x 3 cm                                                                                                       \n",
            "2   Which Is Quite Solid With Light Particle Patt...                                                                                                       \n",
            "3   with only the best and original inks and prec...                                                                                                       \n",
            "4                               35 cm x 50 cm x 2 cm                                                                                                       \n",
            "\n",
            "          with only the and inks and precision epson  \\\n",
            "0                   Special Effect UV Print Textured   \n",
            "1   Set of 3) Color:Multicolor                   ...   \n",
            "2   Some Can Be Used As Table Top And The Big Siz...   \n",
            "3   to achieve brilliant and true colours. Due to...   \n",
            "4   Set of 3) Color:Multicolor   Overview a beaut...   \n",
            "\n",
            "   roland and hp printers. This innovative hd printing technique results in durable and spectacular looking prints of the highest that last a lifetime. We print solely with top-notch 100% inks  \\\n",
            "0   SAO297) Painting made up in synthetic frame w...                                                                                                                                               \n",
            "1   the end product will be a picture that can sp...                                                                                                                                               \n",
            "2                                                NaN                                                                                                                                               \n",
            "3   our Canvas prints retain their beautiful colo...                                                                                                                                               \n",
            "4   the end product will be a picture that can sp...                                                                                                                                               \n",
            "\n",
            "   to achieve brilliant and true colours. Due to their high level of uv resistance  \\\n",
            "0                                                NaN                                 \n",
            "1   it does not include glass along with the fram...                                 \n",
            "2                                                NaN                                 \n",
            "3   to ensure that the colours of your original i...                                 \n",
            "4   it does not include glass along with the fram...                                 \n",
            "\n",
            "   our prints retain their beautiful colours for many years. Add colour and style to your living space with this digitally printed painting. Some are for pleasure and some for eternal bliss.so bring home this elegant print that is lushed with rich colors that makes it nothing but sheer elegance to be to your friends and family.it would be treasured forever by whoever your lucky recipient is. Liven up your place with these intriguing paintings that are high definition hd graphic digital prints for home  \\\n",
            "0                                                NaN                                                                                                                                                                                                                                                                                                                                                                                                                                                                         \n",
            "1                and shopping is just a click away!\"                                                                                                                                                                                                                                                                                                                                                                                                                                                                         \n",
            "2                                                NaN                                                                                                                                                                                                                                                                                                                                                                                                                                                                         \n",
            "3   with brilliant tones. Add colour and style to...                                                                                                                                                                                                                                                                                                                                                                                                                                                                         \n",
            "4                and shopping is just a click away!\"                                                                                                                                                                                                                                                                                                                                                                                                                                                                         \n",
            "\n",
            "                                office or any room.\"  \n",
            "0                                                NaN  \n",
            "1                                                NaN  \n",
            "2                                                NaN  \n",
            "3   office or any room. A perfect size of 36 inch...  \n",
            "4                                                NaN  \n",
            "<class 'pandas.core.frame.DataFrame'>\n",
            "RangeIndex: 117294 entries, 0 to 117293\n",
            "Data columns (total 8 columns):\n",
            " #   Column                                                                                                                                                                                                                                                                                                                                                                                                                                                                                                                    Non-Null Count   Dtype \n",
            "---  ------                                                                                                                                                                                                                                                                                                                                                                                                                                                                                                                    --------------   ----- \n",
            " 0   Household                                                                                                                                                                                                                                                                                                                                                                                                                                                                                                                 117294 non-null  object\n",
            " 1   \"Paper Plane Design Framed Wall Hanging Motivational Office Decor Art Prints (8.7 X 8.7 inch) - Set of 4 Painting made up in synthetic frame with uv textured print which gives multi effects and attracts towards it. This is an special series of paintings which makes your wall very beautiful and gives a royal touch. This painting is ready to hang                                                                                                                                                                117266 non-null  object\n",
            " 2    you would be proud to possess this unique painting that is a niche apart. We use only the most modern and efficient printing technology on our prints                                                                                                                                                                                                                                                                                                                                                                    75648 non-null   object\n",
            " 3    with only the and inks and precision epson                                                                                                                                                                                                                                                                                                                                                                                                                                                                               55530 non-null   object\n",
            " 4    roland and hp printers. This innovative hd printing technique results in durable and spectacular looking prints of the highest that last a lifetime. We print solely with top-notch 100% inks                                                                                                                                                                                                                                                                                                                            40469 non-null   object\n",
            " 5    to achieve brilliant and true colours. Due to their high level of uv resistance                                                                                                                                                                                                                                                                                                                                                                                                                                          28048 non-null   object\n",
            " 6    our prints retain their beautiful colours for many years. Add colour and style to your living space with this digitally printed painting. Some are for pleasure and some for eternal bliss.so bring home this elegant print that is lushed with rich colors that makes it nothing but sheer elegance to be to your friends and family.it would be treasured forever by whoever your lucky recipient is. Liven up your place with these intriguing paintings that are high definition hd graphic digital prints for home  16427 non-null   object\n",
            " 7    office or any room.\"                                                                                                                                                                                                                                                                                                                                                                                                                                                                                                     7067 non-null    object\n",
            "dtypes: object(8)\n",
            "memory usage: 7.2+ MB\n",
            "None\n",
            "Household                                                                                                                                                                                                                                                                                                                                                                                                                                                                                                                        0\n",
            "\"Paper Plane Design Framed Wall Hanging Motivational Office Decor Art Prints (8.7 X 8.7 inch) - Set of 4 Painting made up in synthetic frame with uv textured print which gives multi effects and attracts towards it. This is an special series of paintings which makes your wall very beautiful and gives a royal touch. This painting is ready to hang                                                                                                                                                                      28\n",
            " you would be proud to possess this unique painting that is a niche apart. We use only the most modern and efficient printing technology on our prints                                                                                                                                                                                                                                                                                                                                                                       41646\n",
            " with only the and inks and precision epson                                                                                                                                                                                                                                                                                                                                                                                                                                                                                  61764\n",
            " roland and hp printers. This innovative hd printing technique results in durable and spectacular looking prints of the highest that last a lifetime. We print solely with top-notch 100% inks                                                                                                                                                                                                                                                                                                                               76825\n",
            " to achieve brilliant and true colours. Due to their high level of uv resistance                                                                                                                                                                                                                                                                                                                                                                                                                                             89246\n",
            " our prints retain their beautiful colours for many years. Add colour and style to your living space with this digitally printed painting. Some are for pleasure and some for eternal bliss.so bring home this elegant print that is lushed with rich colors that makes it nothing but sheer elegance to be to your friends and family.it would be treasured forever by whoever your lucky recipient is. Liven up your place with these intriguing paintings that are high definition hd graphic digital prints for home    100867\n",
            " office or any room.\"                                                                                                                                                                                                                                                                                                                                                                                                                                                                                                       110227\n",
            "dtype: int64\n"
          ]
        }
      ]
    },
    {
      "cell_type": "markdown",
      "source": [
        "**Handling** Missing Values & Renaming Columns (If Needed)"
      ],
      "metadata": {
        "id": "UD-lgtwU76ho"
      }
    },
    {
      "cell_type": "code",
      "source": [
        "print(df.columns)  # See the current column names\n",
        "print(df.shape)    # Check the number of rows and columns\n"
      ],
      "metadata": {
        "colab": {
          "base_uri": "https://localhost:8080/"
        },
        "id": "ZH7BVPjJ0yW5",
        "outputId": "dac9b6eb-4f2c-4dcf-8bb8-659bf01fae87"
      },
      "execution_count": null,
      "outputs": [
        {
          "output_type": "stream",
          "name": "stdout",
          "text": [
            "Index(['Household',\n",
            "       '\"Paper Plane Design Framed Wall Hanging Motivational Office Decor Art Prints (8.7 X 8.7 inch) - Set of 4 Painting made up in synthetic frame with uv textured print which gives multi effects and attracts towards it. This is an special series of paintings which makes your wall very beautiful and gives a royal touch. This painting is ready to hang',\n",
            "       ' you would be proud to possess this unique painting that is a niche apart. We use only the most modern and efficient printing technology on our prints',\n",
            "       ' with only the and inks and precision epson',\n",
            "       ' roland and hp printers. This innovative hd printing technique results in durable and spectacular looking prints of the highest that last a lifetime. We print solely with top-notch 100% inks',\n",
            "       ' to achieve brilliant and true colours. Due to their high level of uv resistance',\n",
            "       ' our prints retain their beautiful colours for many years. Add colour and style to your living space with this digitally printed painting. Some are for pleasure and some for eternal bliss.so bring home this elegant print that is lushed with rich colors that makes it nothing but sheer elegance to be to your friends and family.it would be treasured forever by whoever your lucky recipient is. Liven up your place with these intriguing paintings that are high definition hd graphic digital prints for home',\n",
            "       ' office or any room.\"'],\n",
            "      dtype='object')\n",
            "(117294, 8)\n"
          ]
        }
      ]
    },
    {
      "cell_type": "code",
      "source": [
        "df = df.iloc[:, [0, -1]]  # Keeping only first and last columns (adjust as needed)\n",
        "df.columns = ['Category', 'Text']\n"
      ],
      "metadata": {
        "id": "_Q23x7o_1Lq9"
      },
      "execution_count": null,
      "outputs": []
    },
    {
      "cell_type": "code",
      "source": [
        "df.fillna(\"\", inplace=True)\n"
      ],
      "metadata": {
        "colab": {
          "base_uri": "https://localhost:8080/"
        },
        "id": "2fMIdPef1cc1",
        "outputId": "0305673f-6776-4574-d9cd-20e6ce5d3ee3"
      },
      "execution_count": null,
      "outputs": [
        {
          "output_type": "stream",
          "name": "stderr",
          "text": [
            "<ipython-input-13-2622963f573f>:1: SettingWithCopyWarning: \n",
            "A value is trying to be set on a copy of a slice from a DataFrame\n",
            "\n",
            "See the caveats in the documentation: https://pandas.pydata.org/pandas-docs/stable/user_guide/indexing.html#returning-a-view-versus-a-copy\n",
            "  df.fillna(\"\", inplace=True)\n"
          ]
        }
      ]
    },
    {
      "cell_type": "code",
      "source": [
        "# Check dataset structure\n",
        "print(df.shape)  # Number of rows & columns\n",
        "print(df.columns)  # See current column names\n",
        "\n",
        "# Keep only necessary columns\n",
        "df = df.iloc[:, [0, -1]]  # Adjust column selection based on dataset\n",
        "df.columns = ['Category', 'Text']\n",
        "\n",
        "# Fill missing values\n",
        "df.fillna(\"\", inplace=True)\n",
        "\n",
        "print(df.head())  # Verify everything is correct\n"
      ],
      "metadata": {
        "colab": {
          "base_uri": "https://localhost:8080/"
        },
        "id": "6g5I8vEq1f41",
        "outputId": "d2dbd7d3-94bd-4505-9d09-467720ba2d2b"
      },
      "execution_count": null,
      "outputs": [
        {
          "output_type": "stream",
          "name": "stdout",
          "text": [
            "(117294, 2)\n",
            "Index(['Category', 'Text'], dtype='object')\n",
            "    Category                                               Text\n",
            "0  Household                                                   \n",
            "1  Household                                                   \n",
            "2  Household                                                   \n",
            "3  Household   office or any room. A perfect size of 36 inch...\n",
            "4  Household                                                   \n"
          ]
        }
      ]
    },
    {
      "cell_type": "markdown",
      "source": [
        "** Preprocessing Function **"
      ],
      "metadata": {
        "id": "AwhllIAz8Epy"
      }
    },
    {
      "cell_type": "code",
      "source": [
        "from nltk.stem import PorterStemmer, SnowballStemmer\n",
        "\n",
        "stemmer = PorterStemmer()  # or SnowballStemmer(\"english\")\n",
        "\n",
        "def preprocess_text(text):\n",
        "    text = text.lower()\n",
        "    text = re.sub(f\"[{string.punctuation}]\", \"\", text)\n",
        "    tokens = word_tokenize(text)\n",
        "    tokens = [word for word in tokens if word not in stopwords.words('english')]\n",
        "    # Apply stemming\n",
        "    tokens = [stemmer.stem(word) for word in tokens]\n",
        "    return \" \".join(tokens)\n"
      ],
      "metadata": {
        "id": "roeF0bJG1qJ-"
      },
      "execution_count": null,
      "outputs": []
    },
    {
      "cell_type": "markdown",
      "source": [
        "** Applying Preprocessing**"
      ],
      "metadata": {
        "id": "uzkqcvTk8HzV"
      }
    },
    {
      "cell_type": "code",
      "source": [
        "df['Processed_Text'] = df['Text'].apply(preprocess_text)  # Apply function to 'Text' column\n",
        "\n",
        "print(df.head())  # Check processed text\n"
      ],
      "metadata": {
        "colab": {
          "base_uri": "https://localhost:8080/"
        },
        "id": "fhj91ibr1s_P",
        "outputId": "57165dca-424e-49df-d816-1b45b2091111"
      },
      "execution_count": null,
      "outputs": [
        {
          "output_type": "stream",
          "name": "stdout",
          "text": [
            "    Category                                               Text  \\\n",
            "0  Household                                                      \n",
            "1  Household                                                      \n",
            "2  Household                                                      \n",
            "3  Household   office or any room. A perfect size of 36 inch...   \n",
            "4  Household                                                      \n",
            "\n",
            "                                      Processed_Text  \n",
            "0                                                     \n",
            "1                                                     \n",
            "2                                                     \n",
            "3  offic room perfect size 36 inch x 48 inch suit...  \n",
            "4                                                     \n"
          ]
        }
      ]
    },
    {
      "cell_type": "markdown",
      "source": [
        "**Task 2.Vectorization Techniques**"
      ],
      "metadata": {
        "id": "s7y9J9EF_Gjq"
      }
    },
    {
      "cell_type": "markdown",
      "source": [
        "** Text Vectorization (TF-IDF)**"
      ],
      "metadata": {
        "id": "3k_4_A5I8J5W"
      }
    },
    {
      "cell_type": "code",
      "source": [
        "vectorizer = TfidfVectorizer()\n",
        "X = vectorizer.fit_transform(df['Processed_Text'])\n",
        "y = df['Category']  # Target variable\n",
        "\n",
        "print(\"Shape of feature matrix:\", X.shape)\n"
      ],
      "metadata": {
        "colab": {
          "base_uri": "https://localhost:8080/"
        },
        "id": "V-GqYpj51wEp",
        "outputId": "9cfbd93f-1d48-49db-deb8-8d7edc2b7b3b"
      },
      "execution_count": null,
      "outputs": [
        {
          "output_type": "stream",
          "name": "stdout",
          "text": [
            "Shape of feature matrix: (117294, 5662)\n"
          ]
        }
      ]
    },
    {
      "cell_type": "markdown",
      "source": [
        "**CountVectorizer**"
      ],
      "metadata": {
        "id": "CKOk8NbBB6KE"
      }
    },
    {
      "cell_type": "code",
      "source": [
        "from sklearn.feature_extraction.text import CountVectorizer\n",
        "\n",
        "count_vectorizer = CountVectorizer()\n",
        "X_count = count_vectorizer.fit_transform(df['Processed_Text'])\n"
      ],
      "metadata": {
        "id": "AOTo5PNuB2r1"
      },
      "execution_count": null,
      "outputs": []
    },
    {
      "cell_type": "markdown",
      "source": [
        "**Task 3.Data Splitting**"
      ],
      "metadata": {
        "id": "VmOd3sA-_POI"
      }
    },
    {
      "cell_type": "markdown",
      "source": [
        "**Splitting** Dataset into Training & Testing Sets"
      ],
      "metadata": {
        "id": "7USXWh2Z8MJ6"
      }
    },
    {
      "cell_type": "code",
      "source": [
        "X_train, X_test, y_train, y_test = train_test_split(X, y, test_size=0.2, random_state=42)\n",
        "\n",
        "print(\"Training data size:\", X_train.shape)\n",
        "print(\"Testing data size:\", X_test.shape)\n"
      ],
      "metadata": {
        "colab": {
          "base_uri": "https://localhost:8080/"
        },
        "id": "vf1vgvPi12cb",
        "outputId": "29c3997d-cb16-4e29-95ae-3013c999e6b9"
      },
      "execution_count": null,
      "outputs": [
        {
          "output_type": "stream",
          "name": "stdout",
          "text": [
            "Training data size: (93835, 5662)\n",
            "Testing data size: (23459, 5662)\n"
          ]
        }
      ]
    },
    {
      "cell_type": "markdown",
      "source": [
        "**Task 4.Model Building**"
      ],
      "metadata": {
        "id": "aO3m2YBk_VHN"
      }
    },
    {
      "cell_type": "markdown",
      "source": [
        "** Training Naïve Bayes Model**"
      ],
      "metadata": {
        "id": "PRJpIKnk9Ey9"
      }
    },
    {
      "cell_type": "code",
      "source": [
        "model = MultinomialNB()\n",
        "model.fit(X_train, y_train)\n",
        "\n",
        "print(\"Model training complete.\")\n"
      ],
      "metadata": {
        "colab": {
          "base_uri": "https://localhost:8080/"
        },
        "id": "zFExlrxC17LS",
        "outputId": "407a48c6-0198-4449-870b-686cedf30532"
      },
      "execution_count": null,
      "outputs": [
        {
          "output_type": "stream",
          "name": "stdout",
          "text": [
            "Model training complete.\n"
          ]
        }
      ]
    },
    {
      "cell_type": "code",
      "source": [
        "from sklearn.model_selection import cross_val_score\n",
        "cv_scores = cross_val_score(model, X_train, y_train, cv=5)\n",
        "print(\"Cross-validation scores:\", cv_scores)\n",
        "print(\"Mean CV Accuracy:\", np.mean(cv_scores))\n"
      ],
      "metadata": {
        "colab": {
          "base_uri": "https://localhost:8080/"
        },
        "id": "-YUyL2Zt9GI0",
        "outputId": "774cc893-e8e8-45a6-e080-228b0b9c5344"
      },
      "execution_count": null,
      "outputs": [
        {
          "output_type": "stream",
          "name": "stderr",
          "text": [
            "/usr/local/lib/python3.11/dist-packages/sklearn/model_selection/_split.py:805: UserWarning: The least populated class in y has only 1 members, which is less than n_splits=5.\n",
            "  warnings.warn(\n"
          ]
        },
        {
          "output_type": "stream",
          "name": "stdout",
          "text": [
            "Cross-validation scores: [0.30702829 0.30788085 0.30468375 0.30612245 0.30718815]\n",
            "Mean CV Accuracy: 0.3065807001651836\n"
          ]
        }
      ]
    },
    {
      "cell_type": "code",
      "source": [
        "import seaborn as sns\n",
        "import matplotlib.pyplot as plt\n",
        "from sklearn.metrics import confusion_matrix\n",
        "\n",
        "conf_mat = confusion_matrix(y_test, y_pred)\n",
        "plt.figure(figsize=(5, 4))\n",
        "sns.heatmap(conf_mat, annot=True, cmap=\"Blues\", fmt='g')\n",
        "plt.xlabel(\"Predicted\")\n",
        "plt.ylabel(\"Actual\")\n",
        "plt.title(\"Confusion Matrix\")\n",
        "plt.show()\n"
      ],
      "metadata": {
        "colab": {
          "base_uri": "https://localhost:8080/",
          "height": 410
        },
        "id": "-1Ua-o9E9THp",
        "outputId": "6e1b465d-875e-4e49-d42c-521e4395b5a4"
      },
      "execution_count": null,
      "outputs": [
        {
          "output_type": "display_data",
          "data": {
            "text/plain": [
              "<Figure size 500x400 with 2 Axes>"
            ],
            "image/png": "[encoded data removed]"
          },
          "metadata": {}
        }
      ]
    },
    {
      "cell_type": "markdown",
      "source": [
        "** Making Predictions & Evaluating Model**"
      ],
      "metadata": {
        "id": "A5tmRXgH8Rrg"
      }
    },
    {
      "cell_type": "code",
      "source": [
        "y_pred = model.predict(X_test)\n",
        "\n",
        "accuracy = accuracy_score(y_test, y_pred)\n",
        "print(\"Accuracy:\", accuracy)\n",
        "print(\"Classification Report:\\n\", classification_report(y_test, y_pred))\n",
        "print(\"Confusion Matrix:\\n\", confusion_matrix(y_test, y_pred))\n"
      ],
      "metadata": {
        "colab": {
          "base_uri": "https://localhost:8080/"
        },
        "id": "Izt82D5k2ApD",
        "outputId": "8b580802-8b1f-46ec-ee4a-9feb0212253d"
      },
      "execution_count": null,
      "outputs": [
        {
          "output_type": "stream",
          "name": "stdout",
          "text": [
            "Accuracy: 0.3102007758216463\n"
          ]
        },
        {
          "output_type": "stream",
          "name": "stderr",
          "text": [
            "/usr/local/lib/python3.11/dist-packages/sklearn/metrics/_classification.py:1565: UndefinedMetricWarning: Precision is ill-defined and being set to 0.0 in labels with no predicted samples. Use `zero_division` parameter to control this behavior.\n",
            "  _warn_prf(average, modifier, f\"{metric.capitalize()} is\", len(result))\n",
            "/usr/local/lib/python3.11/dist-packages/sklearn/metrics/_classification.py:1565: UndefinedMetricWarning: Precision is ill-defined and being set to 0.0 in labels with no predicted samples. Use `zero_division` parameter to control this behavior.\n",
            "  _warn_prf(average, modifier, f\"{metric.capitalize()} is\", len(result))\n"
          ]
        },
        {
          "output_type": "stream",
          "name": "stdout",
          "text": [
            "Classification Report:\n",
            "                                                                                                                                                                                     precision    recall  f1-score   support\n",
            "\n",
            "                                                                                         What has been the best part of your startup experience? In this dynamic start-up industry       0.00      0.00      0.00         1\n",
            "                                                                                                                               Bubbles makes plain water so much more fun to drink       0.00      0.00      0.00         1\n",
            "                                                                                                                           Combined with a IPX4 Sweat/Dust/Splash Resistant design       0.00      0.00      0.00         4\n",
            "                                                                                                                                                           Growing up in the South       0.00      0.00      0.00         1\n",
            "                                                                                                                                                             In our business model       0.00      0.00      0.00         1\n",
            "                                                                                                                                                                         Over time       0.00      0.00      0.00         1\n",
            "                                                                                         Submerge yourself in the limitless world of sound with the latest in Bluetooth innovation       0.00      0.00      0.00         2\n",
            "                                          The Sodamaker plays a direct role in protecting our planet from plastic waste. By using a Sodamaker to make Soda and Soft Drinks at home       0.00      0.00      0.00         1\n",
            " This is a multifaceted portrait of Muhammad Ali only he could render: sports legend; unapologetic anti-war advocate; outrageous showman and gracious goodwill ambassador; fighter       0.00      0.00      0.00         3\n",
            "                                                                                                        Who better to tell the tale than the man who went the distance living it?\"       0.00      0.00      0.00         1\n",
            "                                                                                                                                                                             Books       0.98      0.06      0.11      6058\n",
            "                                                                                                                                                            Clothing & Accessories       0.27      1.00      0.43      6060\n",
            "                                                                                                                                                                       Electronics       0.97      0.09      0.16      5241\n",
            "                                                                                                                                                                         Household       0.95      0.07      0.13      6084\n",
            "\n",
            "                                                                                                                                                                          accuracy                           0.31     23459\n",
            "                                                                                                                                                                         macro avg       0.23      0.09      0.06     23459\n",
            "                                                                                                                                                                      weighted avg       0.79      0.31      0.21     23459\n",
            "\n",
            "Confusion Matrix:\n",
            " [[   0    0    0    0    0    0    0    0    0    0    0    1    0    0]\n",
            " [   0    0    0    0    0    0    0    0    0    0    0    1    0    0]\n",
            " [   0    0    0    0    0    0    0    0    0    0    0    4    0    0]\n",
            " [   0    0    0    0    0    0    0    0    0    0    0    1    0    0]\n",
            " [   0    0    0    0    0    0    0    0    0    0    0    1    0    0]\n",
            " [   0    0    0    0    0    0    0    0    0    0    0    1    0    0]\n",
            " [   0    0    0    0    0    0    0    0    0    0    0    2    0    0]\n",
            " [   0    0    0    0    0    0    0    0    0    0    0    1    0    0]\n",
            " [   0    0    0    0    0    0    0    0    0    0    0    3    0    0]\n",
            " [   0    0    0    0    0    0    0    0    0    0    0    1    0    0]\n",
            " [   0    0    0    0    0    0    0    0    0    0  345 5704    3    6]\n",
            " [   0    0    0    0    0    0    0    0    0    0    0 6052    0    8]\n",
            " [   0    0    0    0    0    0    0    0    0    0    0 4772  462    7]\n",
            " [   0    0    0    0    0    0    0    0    0    0    6 5650   10  418]]\n"
          ]
        },
        {
          "output_type": "stream",
          "name": "stderr",
          "text": [
            "/usr/local/lib/python3.11/dist-packages/sklearn/metrics/_classification.py:1565: UndefinedMetricWarning: Precision is ill-defined and being set to 0.0 in labels with no predicted samples. Use `zero_division` parameter to control this behavior.\n",
            "  _warn_prf(average, modifier, f\"{metric.capitalize()} is\", len(result))\n"
          ]
        }
      ]
    },
    {
      "cell_type": "markdown",
      "source": [
        "**Logistic Regression Model**"
      ],
      "metadata": {
        "id": "JpW1JagE_e4N"
      }
    },
    {
      "cell_type": "code",
      "source": [
        "from sklearn.linear_model import LogisticRegression\n",
        "\n",
        "log_reg = LogisticRegression()\n",
        "log_reg.fit(X_train, y_train)\n",
        "y_pred_lr = log_reg.predict(X_test)\n",
        "\n",
        "print(\"Logistic Regression Performance:\")\n",
        "print(\"Accuracy:\", accuracy_score(y_test, y_pred_lr))\n",
        "print(\"Classification Report:\\n\", classification_report(y_test, y_pred_lr))\n"
      ],
      "metadata": {
        "colab": {
          "base_uri": "https://localhost:8080/"
        },
        "id": "FQWci3t19xIO",
        "outputId": "cd63089b-254a-4c69-a310-d325eb937a91"
      },
      "execution_count": null,
      "outputs": [
        {
          "output_type": "stream",
          "name": "stdout",
          "text": [
            "Logistic Regression Performance:\n",
            "Accuracy: 0.3107975617033974\n"
          ]
        },
        {
          "output_type": "stream",
          "name": "stderr",
          "text": [
            "/usr/local/lib/python3.11/dist-packages/sklearn/metrics/_classification.py:1565: UndefinedMetricWarning: Precision is ill-defined and being set to 0.0 in labels with no predicted samples. Use `zero_division` parameter to control this behavior.\n",
            "  _warn_prf(average, modifier, f\"{metric.capitalize()} is\", len(result))\n",
            "/usr/local/lib/python3.11/dist-packages/sklearn/metrics/_classification.py:1565: UndefinedMetricWarning: Precision is ill-defined and being set to 0.0 in labels with no predicted samples. Use `zero_division` parameter to control this behavior.\n",
            "  _warn_prf(average, modifier, f\"{metric.capitalize()} is\", len(result))\n"
          ]
        },
        {
          "output_type": "stream",
          "name": "stdout",
          "text": [
            "Classification Report:\n",
            "                                                                                                                                                                                     precision    recall  f1-score   support\n",
            "\n",
            "                                                                                         What has been the best part of your startup experience? In this dynamic start-up industry       0.00      0.00      0.00         1\n",
            "                                                                                                                               Bubbles makes plain water so much more fun to drink       0.00      0.00      0.00         1\n",
            "                                                                                                                           Combined with a IPX4 Sweat/Dust/Splash Resistant design       0.00      0.00      0.00         4\n",
            "                                                                                                                                                           Growing up in the South       0.00      0.00      0.00         1\n",
            "                                                                                                                                                             In our business model       0.00      0.00      0.00         1\n",
            "                                                                                                                                                                         Over time       0.00      0.00      0.00         1\n",
            "                                                                                         Submerge yourself in the limitless world of sound with the latest in Bluetooth innovation       0.00      0.00      0.00         2\n",
            "                                          The Sodamaker plays a direct role in protecting our planet from plastic waste. By using a Sodamaker to make Soda and Soft Drinks at home       0.00      0.00      0.00         1\n",
            " This is a multifaceted portrait of Muhammad Ali only he could render: sports legend; unapologetic anti-war advocate; outrageous showman and gracious goodwill ambassador; fighter       0.00      0.00      0.00         3\n",
            "                                                                                                        Who better to tell the tale than the man who went the distance living it?\"       0.00      0.00      0.00         1\n",
            "                                                                                                                                                                             Books       0.98      0.06      0.11      6058\n",
            "                                                                                                                                                            Clothing & Accessories       0.27      1.00      0.43      6060\n",
            "                                                                                                                                                                       Electronics       0.97      0.09      0.17      5241\n",
            "                                                                                                                                                                         Household       0.96      0.07      0.13      6084\n",
            "\n",
            "                                                                                                                                                                          accuracy                           0.31     23459\n",
            "                                                                                                                                                                         macro avg       0.23      0.09      0.06     23459\n",
            "                                                                                                                                                                      weighted avg       0.79      0.31      0.21     23459\n",
            "\n"
          ]
        },
        {
          "output_type": "stream",
          "name": "stderr",
          "text": [
            "/usr/local/lib/python3.11/dist-packages/sklearn/metrics/_classification.py:1565: UndefinedMetricWarning: Precision is ill-defined and being set to 0.0 in labels with no predicted samples. Use `zero_division` parameter to control this behavior.\n",
            "  _warn_prf(average, modifier, f\"{metric.capitalize()} is\", len(result))\n"
          ]
        }
      ]
    },
    {
      "cell_type": "markdown",
      "source": [
        "**Task 5.Model Evaluation**"
      ],
      "metadata": {
        "id": "DCbJb-at_m7V"
      }
    },
    {
      "cell_type": "markdown",
      "source": [
        "**Confusion Matrix Visualization**"
      ],
      "metadata": {
        "id": "XCGPshKK_iqH"
      }
    },
    {
      "cell_type": "code",
      "source": [
        "import seaborn as sns\n",
        "import matplotlib.pyplot as plt\n",
        "from sklearn.metrics import confusion_matrix\n",
        "\n",
        "# Confusion Matrix for Naïve Bayes\n",
        "conf_mat_nb = confusion_matrix(y_test, y_pred)\n",
        "plt.figure(figsize=(5, 4))\n",
        "sns.heatmap(conf_mat_nb, annot=True, cmap=\"Blues\", fmt='g')\n",
        "plt.xlabel(\"Predicted\")\n",
        "plt.ylabel(\"Actual\")\n",
        "plt.title(\"Confusion Matrix - Naïve Bayes\")\n",
        "plt.show()\n",
        "\n",
        "# Confusion Matrix for Logistic Regression\n",
        "conf_mat_lr = confusion_matrix(y_test, y_pred_lr)\n",
        "plt.figure(figsize=(5, 4))\n",
        "sns.heatmap(conf_mat_lr, annot=True, cmap=\"Greens\", fmt='g')\n",
        "plt.xlabel(\"Predicted\")\n",
        "plt.ylabel(\"Actual\")\n",
        "plt.title(\"Confusion Matrix - Logistic Regression\")\n",
        "plt.show()\n"
      ],
      "metadata": {
        "colab": {
          "base_uri": "https://localhost:8080/",
          "height": 803
        },
        "id": "4zkNGVNw91TZ",
        "outputId": "368b26ce-addc-4973-edd2-07ebc1fe7237"
      },
      "execution_count": null,
      "outputs": [
        {
          "output_type": "display_data",
          "data": {
            "text/plain": [
              "<Figure size 500x400 with 2 Axes>"
            ],
            "image/png": "[encoded data removed]"
          },
          "metadata": {}
        },
        {
          "output_type": "display_data",
          "data": {
            "text/plain": [
              "<Figure size 500x400 with 2 Axes>"
            ],
            "image/png": "[encoded data removed]"
          },
          "metadata": {}
        }
      ]
    },
    {
      "cell_type": "markdown",
      "source": [
        "**Evaluation Metrics**"
      ],
      "metadata": {
        "id": "PDdSMeFp_rZ9"
      }
    },
    {
      "cell_type": "code",
      "source": [
        "from sklearn.metrics import precision_score, recall_score, f1_score\n",
        "\n",
        "print(\"Naïve Bayes Model Performance:\")\n",
        "print(\"Accuracy:\", accuracy_score(y_test, y_pred))\n",
        "print(\"Precision:\", precision_score(y_test, y_pred, average='weighted'))\n",
        "print(\"Recall:\", recall_score(y_test, y_pred, average='weighted'))\n",
        "print(\"F1 Score:\", f1_score(y_test, y_pred, average='weighted'))\n"
      ],
      "metadata": {
        "colab": {
          "base_uri": "https://localhost:8080/"
        },
        "id": "TCfQQ41P9-Ia",
        "outputId": "c30e1e33-cf7a-47a6-db8b-2d0e32502809"
      },
      "execution_count": null,
      "outputs": [
        {
          "output_type": "stream",
          "name": "stdout",
          "text": [
            "Naïve Bayes Model Performance:\n",
            "Accuracy: 0.3102007758216463\n"
          ]
        },
        {
          "output_type": "stream",
          "name": "stderr",
          "text": [
            "/usr/local/lib/python3.11/dist-packages/sklearn/metrics/_classification.py:1565: UndefinedMetricWarning: Precision is ill-defined and being set to 0.0 in labels with no predicted samples. Use `zero_division` parameter to control this behavior.\n",
            "  _warn_prf(average, modifier, f\"{metric.capitalize()} is\", len(result))\n"
          ]
        },
        {
          "output_type": "stream",
          "name": "stdout",
          "text": [
            "Precision: 0.7885012758231016\n",
            "Recall: 0.3102007758216463\n",
            "F1 Score: 0.20782064463867936\n"
          ]
        }
      ]
    },
    {
      "cell_type": "markdown",
      "source": [
        "**Conclusion**\n",
        "\n",
        "In this project, we successfully applied Natural Language Processing (NLP) techniques to perform text classification. The workflow included preprocessing textual data, extracting features using TF-IDF, and training classification models such as Naive Bayes and Logistic Regression. Through performance evaluation, we gained insights into the effectiveness of each model. This project provided valuable hands-on experience in building a complete NLP pipeline for real-world text classification tasks."
      ],
      "metadata": {
        "id": "i6f04MaW883M"
      }
    },
    {
      "cell_type": "markdown",
      "source": [
        "**Declaration**\n",
        "\n",
        "I, Sakshi Dube, confirm that the work submitted in this assignment is my own and has been completed following academic integrity guidelines. The code is uploaded on my GitHub repository account, and the repository link is provided below:\n",
        "\n",
        "GitHub Repository Link: https://github.com/kanishkagarud26/deep_learning_ass_2\n",
        "\n",
        "Signature: Kanishka Garud"
      ],
      "metadata": {
        "id": "w6bIpLre55HX"
      }
    }
  ]
}